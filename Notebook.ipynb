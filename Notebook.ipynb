{
 "cells": [
  {
   "cell_type": "markdown",
   "metadata": {},
   "source": [
    "Machine Learning with Probabilistic Programming 2020"
   ]
  },
  {
   "cell_type": "code",
   "execution_count": 92,
   "metadata": {},
   "outputs": [],
   "source": [
    "import DTSBN\n",
    "import read_data\n",
    "import test_pred\n",
    "import torch \n",
    "import pickle\n",
    "import seaborn as sns\n",
    "import matplotlib.pyplot as plt\n",
    "import warnings\n",
    "import torch.autograd as autograd\n",
    "import torch.optim as optim\n",
    "from torch.distributions import constraints, transform_to\n",
    "import pyro.contrib.gp as gp\n",
    "import math\n",
    "import numpy as np\n"
   ]
  },
  {
   "cell_type": "code",
   "execution_count": 78,
   "metadata": {},
   "outputs": [],
   "source": [
    "#Load the data\n",
    "data = torch.load('data.pt')\n",
    "\n",
    "train_data = data[:, :int(data.size()[1]/3)*2]\n",
    "test_data = data[:, int(data.size()[1]/3)*2:]"
   ]
  },
  {
   "cell_type": "code",
   "execution_count": 45,
   "metadata": {},
   "outputs": [],
   "source": [
    "#Define the base model\n",
    "data_size = 1404\n",
    "hidden_size = 1404\n",
    "dims = [hidden_size, data_size]\n",
    "DTSBN_base = DTSBN.DTSBN(dims, 1, 1)\n",
    "\n",
    "#Define the Data Dependent Baseline\n",
    "dims.reverse()\n",
    "DDBL_base = DTSBN.DDBL(dims)"
   ]
  },
  {
   "cell_type": "code",
   "execution_count": 46,
   "metadata": {},
   "outputs": [
    {
     "name": "stdout",
     "output_type": "stream",
     "text": [
      "epoch 1 average loss: -1054.8012390865063\n",
      "epoch 2 average loss: -534.02863306305\n",
      "epoch 3 average loss: -464.90337908979245\n",
      "epoch 4 average loss: -421.9748430274836\n",
      "epoch 5 average loss: -386.1439402723654\n",
      "epoch 6 average loss: -353.1906691667288\n",
      "epoch 7 average loss: -317.2585984550968\n",
      "epoch 8 average loss: -284.3782674930545\n",
      "epoch 9 average loss: -248.98103383503553\n",
      "epoch 10 average loss: -217.01967619028753\n",
      "epoch 11 average loss: -184.16354818048228\n",
      "epoch 12 average loss: -148.72810813521428\n",
      "epoch 13 average loss: -112.61006083522605\n",
      "epoch 14 average loss: -78.21529338924938\n",
      "epoch 15 average loss: -43.55181816483454\n"
     ]
    },
    {
     "data": {
      "text/plain": [
       "[-1054.8012390865063,\n",
       " -534.02863306305,\n",
       " -464.90337908979245,\n",
       " -421.9748430274836,\n",
       " -386.1439402723654,\n",
       " -353.1906691667288,\n",
       " -317.2585984550968,\n",
       " -284.3782674930545,\n",
       " -248.98103383503553,\n",
       " -217.01967619028753,\n",
       " -184.16354818048228,\n",
       " -148.72810813521428,\n",
       " -112.61006083522605,\n",
       " -78.21529338924938,\n",
       " -43.55181816483454]"
      ]
     },
     "execution_count": 46,
     "metadata": {},
     "output_type": "execute_result"
    }
   ],
   "source": [
    "#Show trainning of model\n",
    "DTSBN.Adam(DTSBN_base, DDBL_base, train_data, torch.nn.MSELoss(), epochs=15, Noisy=False)"
   ]
  },
  {
   "cell_type": "code",
   "execution_count": 28,
   "metadata": {},
   "outputs": [],
   "source": [
    "#Load the fully trained model\n"
   ]
  },
  {
   "cell_type": "code",
   "execution_count": 73,
   "metadata": {},
   "outputs": [],
   "source": [
    "#Define the posterior predictive checks\n",
    "\n",
    "#Check the n_forward day returns in the generated data against real data\n",
    "def graph_rets(actual_d, data_recovery_path, DTSBN_net, n_preds, n_forward):\n",
    "    \n",
    "    actual = actual_d.clone()\n",
    "    with open(data_recovery_path, 'rb') as f:\n",
    "        data_recov = pickle.load(f)\n",
    "\n",
    "    states = []\n",
    "    for st in range(0, len(dims)):\n",
    "        states.append(torch.zeros((dims[st], DTSBN_net.nt)))\n",
    "\n",
    "    preds = test_pred.predict_n_forward(DTSBN_net, states, n_preds)\n",
    "    preds = preds[:, 100:]\n",
    "\n",
    "    for comp in range(0, len(data_recov)):\n",
    "\n",
    "        actual[comp] = torch.add(torch.mul(actual[comp],\n",
    "                                               data_recov[comp][1]),\n",
    "                                     data_recov[comp][0])\n",
    "        \n",
    "        preds[comp] = torch.add(torch.mul(preds[comp], data_recov[comp][1]),\n",
    "                                data_recov[comp][0])\n",
    "\n",
    "    real_rets = []\n",
    "    gen_rets = []\n",
    "\n",
    "    for comp in range(0, len(data_recov)):\n",
    "        if comp % 3 == 0:\n",
    "\n",
    "            for start in range(0, actual.size()[1]+1-n_forward):\n",
    "                r = 1\n",
    "                for day in range(0, n_forward):\n",
    "                    r = r*(actual[comp][start+day].item() + 1)\n",
    "                real_rets.append(r-1)\n",
    "\n",
    "            for start in range(0, preds.size()[1]+1-n_forward):\n",
    "                g = 1\n",
    "                for day in range(0, n_forward):\n",
    "                    g = g*(preds[comp][start+day].item() + 1)\n",
    "                gen_rets.append(g-1)\n",
    "\n",
    "    f1 = sns.distplot(real_rets, hist=False, kde=True,\n",
    "                      norm_hist=True, label='Actual')\n",
    "    f1.set_title('{} day returns '.format(n_forward))\n",
    "    f1.set(xlabel='Return', ylabel='PDF')\n",
    "    sns.distplot(gen_rets, hist=False, kde=True,\n",
    "                 norm_hist=True, label='Generated')\n",
    "\n",
    "    plt.show()\n",
    "\n",
    "#Check the variance of n_forward day returns in the generated data against real data\n",
    "def graph_vars(actual_d, data_recovery_path, DTSBN_net, n_preds, n_forward):\n",
    "\n",
    "    actual = actual_d.clone()\n",
    "    with open(data_recovery_path, 'rb') as f:\n",
    "        data_recov = pickle.load(f)\n",
    "\n",
    "    states = []\n",
    "    for st in range(0, len(dims)):\n",
    "        states.append(torch.zeros((dims[st], DTSBN_net.nt)))\n",
    "\n",
    "    preds = test_pred.predict_n_forward(DTSBN_net, states, n_preds)\n",
    "    preds = preds[:, 100:]\n",
    "\n",
    "    for comp in range(0, len(data_recov)):\n",
    "\n",
    "        actual[comp] = torch.add(torch.mul(actual[comp],\n",
    "                                               data_recov[comp][1]),\n",
    "                                     data_recov[comp][0])\n",
    "        preds[comp] = torch.add(torch.mul(preds[comp], data_recov[comp][1]),\n",
    "                                data_recov[comp][0])\n",
    "\n",
    "    real_vars = []\n",
    "    gen_vars = []\n",
    "\n",
    "    for comp in range(0, len(data_recov)):\n",
    "        if comp % 3 == 0:\n",
    "            r_l = []\n",
    "            g_l = []\n",
    "            for start in range(0, actual.size()[1]+1-n_forward):\n",
    "                r = 1\n",
    "                for day in range(0, n_forward):\n",
    "                    r = r*(actual[comp][start+day].item() + 1)\n",
    "                r_l.append(r-1)\n",
    "            real_vars.append(torch.var(torch.tensor(r_l)).item())\n",
    "            for start in range(0, preds.size()[1]+1-n_forward):\n",
    "                g = 1\n",
    "                for day in range(0, n_forward):\n",
    "                    g = g*(preds[comp][start+day].item() + 1)\n",
    "                g_l.append(g-1)\n",
    "            gen_vars.append(torch.var(torch.tensor(g_l)).item())\n",
    "\n",
    "    f1 = sns.distplot(real_vars, hist=False, kde=True,\n",
    "                      norm_hist=True, label='Actual')\n",
    "    f1.set_title('{} day returns standard deviation'.format(n_forward))\n",
    "    f1.set(xlabel='Standard Deviation', ylabel='PDF')\n",
    "    sns.distplot(gen_vars, hist=False, kde=True,\n",
    "                 norm_hist=True, label='Generated')\n",
    "\n",
    "    plt.show()"
   ]
  },
  {
   "cell_type": "code",
   "execution_count": 75,
   "metadata": {
    "scrolled": true
   },
   "outputs": [
    {
     "name": "stderr",
     "output_type": "stream",
     "text": [
      "/Users/jonahdeykin/opt/anaconda3/lib/python3.7/site-packages/scipy/stats/stats.py:1713: FutureWarning: Using a non-tuple sequence for multidimensional indexing is deprecated; use `arr[tuple(seq)]` instead of `arr[seq]`. In the future this will be interpreted as an array index, `arr[np.array(seq)]`, which will result either in an error or a different result.\n",
      "  return np.add.reduce(sorted[indexer] * weights, axis=axis) / sumval\n"
     ]
    },
    {
     "data": {
      "image/png": "[encoded data removed]",
      "text/plain": [
       "<Figure size 432x288 with 1 Axes>"
      ]
     },
     "metadata": {
      "needs_background": "light"
     },
     "output_type": "display_data"
    },
    {
     "data": {
      "image/png": "[encoded data removed]",
      "text/plain": [
       "<Figure size 432x288 with 1 Axes>"
      ]
     },
     "metadata": {
      "needs_background": "light"
     },
     "output_type": "display_data"
    },
    {
     "data": {
      "image/png": "[encoded data removed]",
      "text/plain": [
       "<Figure size 432x288 with 1 Axes>"
      ]
     },
     "metadata": {
      "needs_background": "light"
     },
     "output_type": "display_data"
    }
   ],
   "source": [
    "graph_rets(train_data, 'data_recovery.txt', DTSBN_base, 1100, 1)\n",
    "graph_rets(train_data, 'data_recovery.txt', DTSBN_base, 1100, 5)\n",
    "graph_rets(train_data, 'data_recovery.txt', DTSBN_base, 1100, 30)\n"
   ]
  },
  {
   "cell_type": "code",
   "execution_count": 76,
   "metadata": {},
   "outputs": [
    {
     "name": "stderr",
     "output_type": "stream",
     "text": [
      "/Users/jonahdeykin/opt/anaconda3/lib/python3.7/site-packages/scipy/stats/stats.py:1713: FutureWarning: Using a non-tuple sequence for multidimensional indexing is deprecated; use `arr[tuple(seq)]` instead of `arr[seq]`. In the future this will be interpreted as an array index, `arr[np.array(seq)]`, which will result either in an error or a different result.\n",
      "  return np.add.reduce(sorted[indexer] * weights, axis=axis) / sumval\n"
     ]
    },
    {
     "data": {
      "image/png": "[encoded data removed]",
      "text/plain": [
       "<Figure size 432x288 with 1 Axes>"
      ]
     },
     "metadata": {
      "needs_background": "light"
     },
     "output_type": "display_data"
    },
    {
     "data": {
      "image/png": "[encoded data removed]",
      "text/plain": [
       "<Figure size 432x288 with 1 Axes>"
      ]
     },
     "metadata": {
      "needs_background": "light"
     },
     "output_type": "display_data"
    },
    {
     "data": {
      "image/png": "[encoded data removed]",
      "text/plain": [
       "<Figure size 432x288 with 1 Axes>"
      ]
     },
     "metadata": {
      "needs_background": "light"
     },
     "output_type": "display_data"
    }
   ],
   "source": [
    "graph_vars(train_data, 'data_recovery.txt', DTSBN_base, 1100, 1)\n",
    "graph_vars(train_data, 'data_recovery.txt', DTSBN_base, 1100, 5)\n",
    "graph_vars(train_data, 'data_recovery.txt', DTSBN_base, 1100, 30)\n"
   ]
  },
  {
   "cell_type": "code",
   "execution_count": null,
   "metadata": {},
   "outputs": [],
   "source": [
    "#Load Grid Search Optimized Model\n",
    "DTSBN_grid = 'filler'\n"
   ]
  },
  {
   "cell_type": "code",
   "execution_count": null,
   "metadata": {},
   "outputs": [],
   "source": [
    "graph_rets(train_data, 'data_recovery.txt', DTSBN_grid, 1100, 1)\n",
    "graph_rets(train_data, 'data_recovery.txt', DTSBN_grid, 1100, 5)\n",
    "graph_rets(train_data, 'data_recovery.txt', DTSBN_grid, 1100, 30)"
   ]
  },
  {
   "cell_type": "code",
   "execution_count": null,
   "metadata": {},
   "outputs": [],
   "source": [
    "graph_vars(train_data, 'data_recovery.txt', DTSBN_grid, 1100, 1)\n",
    "graph_vars(train_data, 'data_recovery.txt', DTSBN_grid, 1100, 5)\n",
    "graph_vars(train_data, 'data_recovery.txt', DTSBN_grid, 1100, 30)"
   ]
  },
  {
   "cell_type": "code",
   "execution_count": 85,
   "metadata": {},
   "outputs": [],
   "source": [
    "class bayesian_op():\n",
    "    def __init__(self):\n",
    "        self.ranges = None\n",
    "        self.data = None\n",
    "        self.gpmodel = None\n",
    "        self.time_limit = None\n",
    "\n",
    "    def run(self, ranges, data, warmup, bayesian, time_limit):\n",
    "\n",
    "        self.ranges = ranges\n",
    "        self.data = data\n",
    "        self.time_limit = time_limit\n",
    "\n",
    "        X = torch.rand((warmup, 3))\n",
    "        y = torch.zeros((warmup,))\n",
    "\n",
    "        for j in range(0, warmup):\n",
    "            configs = [((self.ranges[i][1]-self.ranges[i][0]) *\n",
    "                        X[j][i].item())\n",
    "                       + self.ranges[i][0] for i in range(0, 3)]\n",
    "            dims = [self.data.size()[0]]\n",
    "\n",
    "            for _ in range(0, int(configs[1])):\n",
    "                dims.append(max(1, int(dims[-1] / configs[0])))\n",
    "\n",
    "            DDBL_net = DTSBN.DDBL(dims)\n",
    "            dims.reverse()\n",
    "            DTSBN_net = DTSBN.DTSBN(dims, int(configs[1]), int(configs[2]))\n",
    "\n",
    "            y[j] = DTSBN.Adam(DTSBN_net, DDBL_net, self.data, torch.nn.MSELoss(),\n",
    "                        t_max=self.time_limit, Noisy=False)\n",
    "            print('warmup step {}/{}'.format(j+1, warmup))\n",
    "        self.gpmodel = gp.models.GPRegression(X, y,\n",
    "                                              gp.kernels.Matern52(\n",
    "                                                                  input_dim=3\n",
    "                                                                  ),\n",
    "                                              noise=torch.tensor(0.1),\n",
    "                                              jitter=1.0e-4)\n",
    "\n",
    "        for j in range(0, bayesian):\n",
    "            x_min = self.next_x()\n",
    "            self.update_posterior(x_min)\n",
    "            print('bayesian step {}/{}'.format(j+1, bayesian))\n",
    "\n",
    "        return (self.gpmodel.X, self.gpmodel.y)\n",
    "\n",
    "    def update_posterior(self, x_new):\n",
    "\n",
    "        configs = [((self.ranges[i][1]-self.ranges[i][0]) * x_new[i].item()) +\n",
    "                   self.ranges[i][0] for i in range(0, 3)]\n",
    "        dims = [self.data.size()[0]]\n",
    "\n",
    "        for _ in range(0, int(configs[1])):\n",
    "            dims.append(max(1, int(dims[-1] / configs[0])))\n",
    "\n",
    "        DDBL_net = DTSBN.DDBL(dims)\n",
    "        dims.reverse()\n",
    "        DTSBN_net = DTSBN.DTSBN(dims, int(configs[1]), int(configs[2]))\n",
    "\n",
    "        y = torch.tensor(DTSBN.Adam(DTSBN_net, DDBL_net, self.data, torch.nn.MSELoss(),\n",
    "                              t_max=self.time_limit, Noisy=False))\n",
    "        x_fix = torch.zeros((1, 3))\n",
    "        x_fix[0] = x_new\n",
    "        X = torch.cat([self.gpmodel.X, x_fix])\n",
    "        y_fix = torch.zeros((1,))\n",
    "        y_fix[0] = y\n",
    "        y = torch.cat([self.gpmodel.y, y_fix])\n",
    "\n",
    "        self.gpmodel.set_data(X, y)\n",
    "\n",
    "        # optimize the GP hyperparameters using Adam with lr=0.001\n",
    "        optimizer = torch.optim.Adam(self.gpmodel.parameters(), lr=0.001)\n",
    "        gp.util.train(self.gpmodel, optimizer)\n",
    "\n",
    "    def lower_confidence_bound(self, x, kappa=2):\n",
    "\n",
    "        x_fix = torch.zeros((1, x.size()[0]))\n",
    "        x_fix[0] = x\n",
    "        mu, variance = self.gpmodel(x_fix, full_cov=False, noiseless=False)\n",
    "        sigma = variance.sqrt()\n",
    "        return -mu - kappa * sigma\n",
    "\n",
    "    def find_a_candidate(self, x_init, lower_bound=0, upper_bound=1):\n",
    "        # transform x to an unconstrained domain\n",
    "        constraint = constraints.interval(lower_bound, upper_bound)\n",
    "        unconstrained_x_init = transform_to(constraint).inv(x_init)\n",
    "        unconstrained_x = (unconstrained_x_init.clone().detach()\n",
    "                           .requires_grad_(True))\n",
    "        minimizer = optim.LBFGS([unconstrained_x],\n",
    "                                line_search_fn='strong_wolfe')\n",
    "\n",
    "        def closure():\n",
    "            minimizer.zero_grad()\n",
    "            x = transform_to(constraint)(unconstrained_x)\n",
    "            y = self.lower_confidence_bound(x)\n",
    "            autograd.backward(unconstrained_x, autograd.grad(y,\n",
    "                                                             unconstrained_x))\n",
    "            return y\n",
    "\n",
    "        minimizer.step(closure)\n",
    "        # after finding a candidate in the unconstrained domain,\n",
    "        # convert it back to original domain.\n",
    "        x = transform_to(constraint)(unconstrained_x)\n",
    "        return x.detach()\n",
    "\n",
    "    def next_x(self, lower_bound=0, upper_bound=1, num_candidates=5):\n",
    "        candidates = []\n",
    "        values = []\n",
    "\n",
    "        x_init = self.gpmodel.X[-1]\n",
    "        for i in range(num_candidates):\n",
    "            x = self.find_a_candidate(x_init, lower_bound, upper_bound)\n",
    "            y = self.lower_confidence_bound(x)\n",
    "            candidates.append(x)\n",
    "            values.append(y)\n",
    "            x_init = x.new_empty(3).uniform_(lower_bound, upper_bound)\n",
    "\n",
    "        argmin = torch.min(torch.cat(values), dim=0)[1].item()\n",
    "        return candidates[argmin]\n"
   ]
  },
  {
   "cell_type": "code",
   "execution_count": 86,
   "metadata": {},
   "outputs": [
    {
     "name": "stdout",
     "output_type": "stream",
     "text": [
      "epoch 1 average loss: -1523.60796875\n",
      "warmup step 1/7\n",
      "epoch 1 average loss: -1359.5342307692308\n",
      "warmup step 2/7\n",
      "epoch 1 average loss: -1362.14453125\n",
      "warmup step 3/7\n",
      "epoch 1 average loss: -1518.709125\n",
      "warmup step 4/7\n",
      "epoch 1 average loss: -1472.9691666666668\n",
      "warmup step 5/7\n",
      "epoch 1 average loss: -1378.7551785714286\n",
      "warmup step 6/7\n",
      "epoch 1 average loss: -1363.58515625\n",
      "warmup step 7/7\n",
      "epoch 1 average loss: -1586.066125\n",
      "bayesian step 1/13\n",
      "epoch 1 average loss: -1344.6537162162163\n",
      "epoch 2 average loss: -1143.0882352941176\n",
      "epoch 3 average loss: -956.2538751987281\n",
      "epoch 4 average loss: -881.6864069952305\n",
      "bayesian step 2/13\n",
      "epoch 1 average loss: -1344.3659578696343\n",
      "epoch 2 average loss: -1144.3822535771064\n",
      "epoch 3 average loss: -955.6607710651829\n",
      "epoch 4 average loss: -866.6192368839428\n",
      "bayesian step 3/13\n",
      "epoch 1 average loss: -1347.2973966613672\n",
      "epoch 2 average loss: -1145.956081081081\n",
      "epoch 3 average loss: -956.8043521462639\n",
      "epoch 4 average loss: -927.9289546899842\n",
      "bayesian step 4/13\n",
      "epoch 1 average loss: -1346.525337837838\n",
      "epoch 2 average loss: -1144.7360890302066\n",
      "epoch 3 average loss: -967.0765103338633\n",
      "bayesian step 5/13\n",
      "epoch 1 average loss: -1352.2760333863275\n",
      "epoch 2 average loss: -1151.9818163751988\n",
      "epoch 3 average loss: -960.8737082670906\n",
      "epoch 4 average loss: -887.5893282988872\n",
      "bayesian step 6/13\n",
      "epoch 1 average loss: -1347.6858108108108\n",
      "epoch 2 average loss: -1146.9612480127187\n",
      "epoch 3 average loss: -956.433326709062\n",
      "epoch 4 average loss: -873.5000993640699\n",
      "bayesian step 7/13\n",
      "epoch 1 average loss: -1348.6193362480128\n",
      "epoch 2 average loss: -1146.7101550079492\n",
      "epoch 3 average loss: -959.2456279809221\n",
      "epoch 4 average loss: -863.0427265500795\n",
      "bayesian step 8/13\n",
      "epoch 1 average loss: -1348.1565977742448\n",
      "epoch 2 average loss: -1147.272853736089\n",
      "epoch 3 average loss: -956.3507551669317\n",
      "epoch 4 average loss: -896.254173290938\n",
      "bayesian step 9/13\n",
      "epoch 1 average loss: -1350.8390302066773\n",
      "epoch 2 average loss: -1150.2980922098568\n",
      "epoch 3 average loss: -962.6171502384738\n",
      "bayesian step 10/13\n",
      "epoch 1 average loss: -1348.3339626391096\n",
      "epoch 2 average loss: -1147.9795310015897\n",
      "epoch 3 average loss: -958.6473569157392\n",
      "epoch 4 average loss: -921.527126391097\n",
      "bayesian step 11/13\n",
      "epoch 1 average loss: -1348.2751391096979\n",
      "epoch 2 average loss: -1147.7441375198728\n",
      "epoch 3 average loss: -956.0619038155803\n",
      "epoch 4 average loss: -890.2843799682036\n",
      "bayesian step 12/13\n",
      "epoch 1 average loss: -1347.037162162162\n",
      "epoch 2 average loss: -1145.5238473767886\n",
      "epoch 3 average loss: -957.9149443561208\n",
      "epoch 4 average loss: -942.9245826709061\n",
      "bayesian step 13/13\n"
     ]
    }
   ],
   "source": [
    "bayesian = bayesian_op()\n",
    "candidates = bayesian.run( ((1, 10), (1, 6), (1, 6)), data, 7, 13, 15)"
   ]
  },
  {
   "cell_type": "code",
   "execution_count": 93,
   "metadata": {},
   "outputs": [],
   "source": [
    "def hyperband(budget, ranges, eta, data):\n",
    "\n",
    "    s_max = math.floor(math.log(budget))\n",
    "    b = (s_max+1)*budget\n",
    "\n",
    "    s_list = [i for i in range(0, s_max + 1)]\n",
    "    s_list.reverse()\n",
    "    best_configs = torch.zeros((s_max+1, 5))\n",
    "\n",
    "    tot = 0\n",
    "    for s in s_list:\n",
    "        n = math.ceil((b/budget)*(eta**s)/(s+1))\n",
    "        r = int(budget*eta**-s)\n",
    "        configs = []\n",
    "        for _ in range(0, n):\n",
    "            rands = np.random.uniform(size=(n,))\n",
    "            config = [((ranges[i][1]-ranges[i][0])*rands[i])+ranges[i][0]\n",
    "                      for i in range(0, 3)]\n",
    "\n",
    "            dims = [data.size()[0]]\n",
    "            for _ in range(0, int(config[1])):\n",
    "                dims.append(max(int(dims[-1] / config[0]), 1))\n",
    "\n",
    "            DDBL_net = DTSBN.DDBL(dims)\n",
    "            dims.reverse()\n",
    "            DTSBN_net = DTSBN.DTSBN(dims, int(config[1]), int(config[2]))\n",
    "\n",
    "            configs.append([0, (DTSBN_net, DDBL_net), config])\n",
    "\n",
    "        for i in range(0, s+1):\n",
    "            n_i = math.floor(n*eta**-i)\n",
    "            r_i = r * eta**i\n",
    "            new_configs = []\n",
    "            for config in configs:\n",
    "                tot += r_i\n",
    "\n",
    "                loss = DTSBN.Adam(config[1][0], config[1][1], data, torch.nn.MSELoss(),\n",
    "                            t_max=r_i, Noisy=False)\n",
    "                new_configs.append([loss, config[1], config[2]])\n",
    "\n",
    "            new_configs.sort(key=lambda x: -x[0])\n",
    "\n",
    "            configs = new_configs[:max(1, math.floor(n_i/eta))]\n",
    "\n",
    "            print(i, s, s_max)\n",
    "            if len(configs) == 1:\n",
    "                break\n",
    "\n",
    "        best_configs[s_max-s][0] = configs[0][0]\n",
    "        best_configs[s_max-s][1] = configs[0][2][0]\n",
    "        best_configs[s_max-s][2] = configs[0][2][1]\n",
    "        best_configs[s_max-s][3] = configs[0][2][2]\n",
    "\n",
    "    return(best_configs)"
   ]
  },
  {
   "cell_type": "code",
   "execution_count": 94,
   "metadata": {},
   "outputs": [
    {
     "name": "stdout",
     "output_type": "stream",
     "text": [
      "epoch 1 average loss: -1470.8428125\n",
      "epoch 1 average loss: -1523.41390625\n",
      "epoch 1 average loss: -1513.16171875\n",
      "epoch 1 average loss: -1472.53765625\n",
      "epoch 1 average loss: -1515.995\n",
      "epoch 1 average loss: -1486.0021875\n",
      "epoch 1 average loss: -1418.9965625\n",
      "epoch 1 average loss: -1411.28075\n",
      "epoch 1 average loss: -1512.3175\n",
      "0 2 2\n",
      "epoch 1 average loss: -1309.1139166666667\n",
      "epoch 1 average loss: -1332.7797916666666\n",
      "epoch 1 average loss: -1420.0121875\n",
      "1 2 2\n",
      "epoch 1 average loss: -1439.28825\n",
      "epoch 1 average loss: -1602.3834375\n",
      "epoch 1 average loss: -1575.068125\n",
      "epoch 1 average loss: -1587.03359375\n",
      "epoch 1 average loss: -1560.9265625\n",
      "0 1 2\n",
      "epoch 1 average loss: -1383.662291169451\n",
      "epoch 2 average loss: -1235.7113663484488\n",
      "epoch 3 average loss: -1099.1642303102626\n",
      "epoch 4 average loss: -964.5821897374701\n",
      "epoch 5 average loss: -948.3697046539379\n",
      "epoch 1 average loss: -1313.3914081145585\n",
      "epoch 2 average loss: -993.2963902147972\n",
      "epoch 3 average loss: -703.4055787589499\n",
      "epoch 1 average loss: -1353.2555681818183\n",
      "0 0 2\n"
     ]
    },
    {
     "data": {
      "text/plain": [
       "tensor([[-1.3091e+03,  7.0095e+00,  2.4313e+00,  1.7532e+00,  0.0000e+00],\n",
       "        [-1.4393e+03,  9.1994e+00,  4.7818e+00,  2.0120e+00,  0.0000e+00],\n",
       "        [-7.0341e+02,  3.8544e+00,  4.4879e+00,  1.4199e+00,  0.0000e+00]])"
      ]
     },
     "execution_count": 94,
     "metadata": {},
     "output_type": "execute_result"
    }
   ],
   "source": [
    "hyperband(15, ((1, 10), (1, 6), (1, 6)), 3, train_data)"
   ]
  },
  {
   "cell_type": "code",
   "execution_count": null,
   "metadata": {},
   "outputs": [],
   "source": [
    "#Load Trained Models\n",
    "DTSBN_hyp = 'filler'\n",
    "DTSBN_bo = 'filler'"
   ]
  },
  {
   "cell_type": "code",
   "execution_count": null,
   "metadata": {},
   "outputs": [],
   "source": [
    "graph_rets(train_data, 'data_recovery.txt', DTSBN_hyp, 1100, 1)\n",
    "graph_rets(train_data, 'data_recovery.txt', DTSBN_hyp, 1100, 5)\n",
    "graph_rets(train_data, 'data_recovery.txt', DTSBN_hyp, 1100, 30)"
   ]
  },
  {
   "cell_type": "code",
   "execution_count": null,
   "metadata": {},
   "outputs": [],
   "source": [
    "graph_rets(train_data, 'data_recovery.txt', DTSBN_bo, 1100, 1)\n",
    "graph_rets(train_data, 'data_recovery.txt', DTSBN_bo, 1100, 5)\n",
    "graph_rets(train_data, 'data_recovery.txt', DTSBN_bo, 1100, 30)"
   ]
  },
  {
   "cell_type": "code",
   "execution_count": null,
   "metadata": {},
   "outputs": [],
   "source": [
    "graph_vars(train_data, 'data_recovery.txt', DTSBN_hyp, 1100, 1)\n",
    "graph_vars(train_data, 'data_recovery.txt', DTSBN_hyp, 1100, 5)\n",
    "graph_vars(train_data, 'data_recovery.txt', DTSBN_hyp, 1100, 30)"
   ]
  },
  {
   "cell_type": "code",
   "execution_count": null,
   "metadata": {},
   "outputs": [],
   "source": [
    "graph_vars(train_data, 'data_recovery.txt', DTSBN_bo, 1100, 1)\n",
    "graph_vars(train_data, 'data_recovery.txt', DTSBN_bo, 1100, 5)\n",
    "graph_vars(train_data, 'data_recovery.txt', DTSBN_bo, 1100, 30)"
   ]
  },
  {
   "cell_type": "code",
   "execution_count": 90,
   "metadata": {},
   "outputs": [
    {
     "ename": "NameError",
     "evalue": "name 'DTSBN_net' is not defined",
     "output_type": "error",
     "traceback": [
      "\u001b[0;31m---------------------------------------------------------------------------\u001b[0m",
      "\u001b[0;31mNameError\u001b[0m                                 Traceback (most recent call last)",
      "\u001b[0;32m<ipython-input-90-f8f830bd4db3>\u001b[0m in \u001b[0;36m<module>\u001b[0;34m()\u001b[0m\n\u001b[0;32m----> 1\u001b[0;31m \u001b[0msamples\u001b[0m \u001b[0;34m=\u001b[0m \u001b[0mtest_pred\u001b[0m\u001b[0;34m.\u001b[0m\u001b[0msample_n_forward\u001b[0m\u001b[0;34m(\u001b[0m\u001b[0mDTSBN_net\u001b[0m\u001b[0;34m,\u001b[0m \u001b[0;34m'data.pt'\u001b[0m\u001b[0;34m,\u001b[0m \u001b[0mint\u001b[0m\u001b[0;34m(\u001b[0m\u001b[0mdata\u001b[0m\u001b[0;34m.\u001b[0m\u001b[0msize\u001b[0m\u001b[0;34m(\u001b[0m\u001b[0;34m)\u001b[0m\u001b[0;34m[\u001b[0m\u001b[0;36m1\u001b[0m\u001b[0;34m]\u001b[0m\u001b[0;34m*\u001b[0m\u001b[0;36m2\u001b[0m\u001b[0;34m/\u001b[0m\u001b[0;36m3\u001b[0m\u001b[0;34m)\u001b[0m\u001b[0;34m,\u001b[0m \u001b[0;36m3\u001b[0m\u001b[0;34m,\u001b[0m \u001b[0;36m5\u001b[0m\u001b[0;34m,\u001b[0m \u001b[0msteps_back\u001b[0m\u001b[0;34m)\u001b[0m\u001b[0;34m\u001b[0m\u001b[0;34m\u001b[0m\u001b[0m\n\u001b[0m",
      "\u001b[0;31mNameError\u001b[0m: name 'DTSBN_net' is not defined"
     ]
    }
   ],
   "source": [
    "samples_bo = test_pred.sample_n_forward(DTSBN_bo, 'data.pt', int(data.size()[1]*2/3), 3, 5, steps_back)\n"
   ]
  },
  {
   "cell_type": "code",
   "execution_count": null,
   "metadata": {},
   "outputs": [],
   "source": []
  }
 ],
 "metadata": {
  "kernelspec": {
   "display_name": "Python 3",
   "language": "python",
   "name": "python3"
  },
  "language_info": {
   "codemirror_mode": {
    "name": "ipython",
    "version": 3
   },
   "file_extension": ".py",
   "mimetype": "text/x-python",
   "name": "python",
   "nbconvert_exporter": "python",
   "pygments_lexer": "ipython3",
   "version": "3.7.4"
  }
 },
 "nbformat": 4,
 "nbformat_minor": 2
}
